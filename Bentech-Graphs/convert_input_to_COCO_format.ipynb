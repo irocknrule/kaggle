{
 "cells": [
  {
   "cell_type": "code",
   "execution_count": 1,
   "id": "9b506ed3",
   "metadata": {},
   "outputs": [],
   "source": [
    "import json\n",
    "import pandas as pd\n",
    "import os\n",
    "from PIL import Image"
   ]
  },
  {
   "cell_type": "code",
   "execution_count": 2,
   "id": "d21e4578",
   "metadata": {},
   "outputs": [],
   "source": [
    "from glob import glob\n",
    "from tqdm import tqdm"
   ]
  },
  {
   "cell_type": "markdown",
   "id": "75e6c7d2",
   "metadata": {},
   "source": [
    "## Helper functions to extract bounding box and other data from the input annotations JSON \n",
    "Source: https://www.kaggle.com/code/alejopaullier/benetech-create-bounding-box-dataframe\n",
    "(Added some comments)"
   ]
  },
  {
   "cell_type": "code",
   "execution_count": 3,
   "id": "7472ce15",
   "metadata": {},
   "outputs": [],
   "source": [
    "def extract_plot_bb(data):\n",
    "    # Extract the bounding box coordinates (x0, y0, width, height) of the plot from the data dictionary\n",
    "    x0 = data[\"plot-bb\"][\"x0\"]\n",
    "    y0 = data[\"plot-bb\"][\"y0\"]\n",
    "    w = data[\"plot-bb\"][\"width\"]\n",
    "    h = data[\"plot-bb\"][\"height\"]\n",
    "    return [x0, y0, w, h, \"plot-bb\"]\n",
    "\n",
    "\n",
    "def extract_label_bbox(data, rows, img_id):\n",
    "    common = []\n",
    "    common += [img_id, data[\"source\"], data[\"chart-type\"]]\n",
    "    \n",
    "    # Iterate over each box in the \"text\" key of the data dictionary\n",
    "    for box in data[\"text\"]:\n",
    "        # Extract the bounding box coordinates (x0, y0, width, height) and label of the text box\n",
    "        x0 = box[\"polygon\"][\"x0\"]\n",
    "        y0 = box[\"polygon\"][\"y0\"]\n",
    "        w = box[\"polygon\"][\"x1\"] - box[\"polygon\"][\"x0\"]\n",
    "        h = box[\"polygon\"][\"y3\"] - box[\"polygon\"][\"y0\"]\n",
    "        label = box[\"role\"]\n",
    "        \n",
    "        # Create a list containing the common metadata along with the extracted bounding box information and label\n",
    "        box_row = common + [x0, y0, w, h, label]\n",
    "        rows.append(box_row)\n",
    "    \n",
    "    # Append the bounding box information of the plot itself to the rows list\n",
    "    rows.append(common + extract_plot_bb(data)) \n",
    "    return rows\n",
    "\n",
    "\n",
    "def extract_tick_bbox(data, rows, img_id):\n",
    "    common = []\n",
    "    common += [img_id, data[\"source\"], data[\"chart-type\"]]\n",
    "    \n",
    "    # Iterate over each axis (x-axis and y-axis) in the \"axes\" key of the data dictionary\n",
    "    for axis in data[\"axes\"].keys():\n",
    "        # Iterate over each tick box in the \"ticks\" key of the axis\n",
    "        for box in data[\"axes\"][axis][\"ticks\"]:\n",
    "            # Extract the bounding box coordinates (x0, y0, width, height) and label of the tick box\n",
    "            x0 = box[\"tick_pt\"][\"x\"] - 5\n",
    "            y0 = box[\"tick_pt\"][\"y\"] - 5\n",
    "            w = 10\n",
    "            h = 10\n",
    "            label = axis + \"-tick\"\n",
    "            \n",
    "            # Create a list containing the common metadata along with the extracted bounding box information and label\n",
    "            box_row = common + [x0, y0, w, h, label]\n",
    "            rows.append(box_row)\n",
    "    \n",
    "    return rows"
   ]
  },
  {
   "cell_type": "markdown",
   "id": "b3fa5d68",
   "metadata": {},
   "source": [
    "Read all the annotations in the given JSON format and create a dataframe of the format specified below before \n",
    "converting them to COCO format to be used in *detectron2* and *layoutparser*"
   ]
  },
  {
   "cell_type": "code",
   "execution_count": 4,
   "id": "27fed8a1",
   "metadata": {},
   "outputs": [
    {
     "name": "stderr",
     "output_type": "stream",
     "text": [
      "100%|█████████████████████████████████████████████████████████████████████████████████████████████████████████████████████████████████████████████████████████████████████████████████████████████████████████████████████████████████████████████████████████████████████████████████████████████████████████████████████████████████████████████████████████████████████████████████████████████████████████████████████████████████████████████████████████| 60578/60578 [00:17<00:00, 3370.87it/s]\n"
     ]
    }
   ],
   "source": [
    "data_dir = '/home/mhmdzm/projects/kaggle/benetech/data/'\n",
    "ANNOTATION = data_dir + \"/train/annotations/*.json\"\n",
    "rows = []\n",
    "for file_name in tqdm(glob(ANNOTATION)):\n",
    "    label_bbox = []\n",
    "    tick_bbox = []\n",
    "    with open(file_name) as f:\n",
    "        data = json.load(f)\n",
    "        img_id = file_name.split(\"/\")[-1].split(\".\")[0]\n",
    "        label_bbox = extract_label_bbox(data, label_bbox, img_id)\n",
    "        tick_bbox = extract_tick_bbox(data, tick_bbox, img_id)\n",
    "        data_rows = label_bbox + tick_bbox\n",
    "    rows += data_rows"
   ]
  },
  {
   "cell_type": "code",
   "execution_count": 5,
   "id": "29a15be6",
   "metadata": {},
   "outputs": [
    {
     "data": {
      "text/html": [
       "<div>\n",
       "<style scoped>\n",
       "    .dataframe tbody tr th:only-of-type {\n",
       "        vertical-align: middle;\n",
       "    }\n",
       "\n",
       "    .dataframe tbody tr th {\n",
       "        vertical-align: top;\n",
       "    }\n",
       "\n",
       "    .dataframe thead th {\n",
       "        text-align: right;\n",
       "    }\n",
       "</style>\n",
       "<table border=\"1\" class=\"dataframe\">\n",
       "  <thead>\n",
       "    <tr style=\"text-align: right;\">\n",
       "      <th></th>\n",
       "      <th>image_id</th>\n",
       "      <th>source</th>\n",
       "      <th>chart</th>\n",
       "      <th>x0</th>\n",
       "      <th>y0</th>\n",
       "      <th>w</th>\n",
       "      <th>h</th>\n",
       "      <th>label</th>\n",
       "    </tr>\n",
       "  </thead>\n",
       "  <tbody>\n",
       "    <tr>\n",
       "      <th>1716206</th>\n",
       "      <td>02dcb0d20586</td>\n",
       "      <td>generated</td>\n",
       "      <td>line</td>\n",
       "      <td>72</td>\n",
       "      <td>173</td>\n",
       "      <td>10</td>\n",
       "      <td>10</td>\n",
       "      <td>y-axis-tick</td>\n",
       "    </tr>\n",
       "    <tr>\n",
       "      <th>440262</th>\n",
       "      <td>bfb4fa1c806b</td>\n",
       "      <td>generated</td>\n",
       "      <td>line</td>\n",
       "      <td>31</td>\n",
       "      <td>167</td>\n",
       "      <td>34</td>\n",
       "      <td>14</td>\n",
       "      <td>tick_label</td>\n",
       "    </tr>\n",
       "    <tr>\n",
       "      <th>805114</th>\n",
       "      <td>1b1ba8b282a8</td>\n",
       "      <td>generated</td>\n",
       "      <td>line</td>\n",
       "      <td>273</td>\n",
       "      <td>321</td>\n",
       "      <td>25</td>\n",
       "      <td>10</td>\n",
       "      <td>tick_label</td>\n",
       "    </tr>\n",
       "    <tr>\n",
       "      <th>2027738</th>\n",
       "      <td>4cc0ee28cdaa</td>\n",
       "      <td>generated</td>\n",
       "      <td>vertical_bar</td>\n",
       "      <td>460</td>\n",
       "      <td>163</td>\n",
       "      <td>10</td>\n",
       "      <td>10</td>\n",
       "      <td>x-axis-tick</td>\n",
       "    </tr>\n",
       "    <tr>\n",
       "      <th>2090529</th>\n",
       "      <td>f05c97d7bda0</td>\n",
       "      <td>generated</td>\n",
       "      <td>scatter</td>\n",
       "      <td>200</td>\n",
       "      <td>273</td>\n",
       "      <td>10</td>\n",
       "      <td>14</td>\n",
       "      <td>tick_label</td>\n",
       "    </tr>\n",
       "    <tr>\n",
       "      <th>1486028</th>\n",
       "      <td>d4a1189e5e93</td>\n",
       "      <td>generated</td>\n",
       "      <td>line</td>\n",
       "      <td>253</td>\n",
       "      <td>265</td>\n",
       "      <td>34</td>\n",
       "      <td>8</td>\n",
       "      <td>tick_label</td>\n",
       "    </tr>\n",
       "    <tr>\n",
       "      <th>194727</th>\n",
       "      <td>a35555c085b6</td>\n",
       "      <td>generated</td>\n",
       "      <td>vertical_bar</td>\n",
       "      <td>7</td>\n",
       "      <td>59</td>\n",
       "      <td>12</td>\n",
       "      <td>189</td>\n",
       "      <td>axis_title</td>\n",
       "    </tr>\n",
       "    <tr>\n",
       "      <th>1159238</th>\n",
       "      <td>717da9022523</td>\n",
       "      <td>generated</td>\n",
       "      <td>line</td>\n",
       "      <td>124</td>\n",
       "      <td>258</td>\n",
       "      <td>10</td>\n",
       "      <td>10</td>\n",
       "      <td>x-axis-tick</td>\n",
       "    </tr>\n",
       "    <tr>\n",
       "      <th>811049</th>\n",
       "      <td>2c2fd38bf111</td>\n",
       "      <td>generated</td>\n",
       "      <td>line</td>\n",
       "      <td>73</td>\n",
       "      <td>8</td>\n",
       "      <td>373</td>\n",
       "      <td>15</td>\n",
       "      <td>chart_title</td>\n",
       "    </tr>\n",
       "    <tr>\n",
       "      <th>738536</th>\n",
       "      <td>0fa0d0363e82</td>\n",
       "      <td>generated</td>\n",
       "      <td>scatter</td>\n",
       "      <td>454</td>\n",
       "      <td>306</td>\n",
       "      <td>28</td>\n",
       "      <td>11</td>\n",
       "      <td>tick_label</td>\n",
       "    </tr>\n",
       "  </tbody>\n",
       "</table>\n",
       "</div>"
      ],
      "text/plain": [
       "             image_id     source         chart   x0   y0    w    h   \n",
       "1716206  02dcb0d20586  generated          line   72  173   10   10  \\\n",
       "440262   bfb4fa1c806b  generated          line   31  167   34   14   \n",
       "805114   1b1ba8b282a8  generated          line  273  321   25   10   \n",
       "2027738  4cc0ee28cdaa  generated  vertical_bar  460  163   10   10   \n",
       "2090529  f05c97d7bda0  generated       scatter  200  273   10   14   \n",
       "1486028  d4a1189e5e93  generated          line  253  265   34    8   \n",
       "194727   a35555c085b6  generated  vertical_bar    7   59   12  189   \n",
       "1159238  717da9022523  generated          line  124  258   10   10   \n",
       "811049   2c2fd38bf111  generated          line   73    8  373   15   \n",
       "738536   0fa0d0363e82  generated       scatter  454  306   28   11   \n",
       "\n",
       "               label  \n",
       "1716206  y-axis-tick  \n",
       "440262    tick_label  \n",
       "805114    tick_label  \n",
       "2027738  x-axis-tick  \n",
       "2090529   tick_label  \n",
       "1486028   tick_label  \n",
       "194727    axis_title  \n",
       "1159238  x-axis-tick  \n",
       "811049   chart_title  \n",
       "738536    tick_label  "
      ]
     },
     "execution_count": 5,
     "metadata": {},
     "output_type": "execute_result"
    }
   ],
   "source": [
    "df = pd.DataFrame(rows)\n",
    "df.columns = [\"image_id\", \"source\", \"chart\", \"x0\", \"y0\", \"w\", \"h\", \"label\"]\n",
    "df.sample(10)"
   ]
  },
  {
   "cell_type": "code",
   "execution_count": 6,
   "id": "67b43be0",
   "metadata": {},
   "outputs": [],
   "source": [
    "# Add the path to images so that we can read directly by going through the columns of the dataframe\n",
    "df['image_id'] = 'images/' + df['image_id'] + '.jpg'"
   ]
  },
  {
   "cell_type": "markdown",
   "id": "1efdffc0",
   "metadata": {},
   "source": [
    "## Training samples \n",
    "The total number of graph images in the input dataset are ~60K. Lets select about 10K images at random at it \n",
    "should be enough for our training step. "
   ]
  },
  {
   "cell_type": "code",
   "execution_count": 7,
   "id": "8ee145f5",
   "metadata": {},
   "outputs": [],
   "source": [
    "# Sample a specific number of groups\n",
    "sample_num = 10000\n",
    "sampled_groups = df['image_id'].drop_duplicates().sample(n=sample_num, random_state=42)\n",
    "\n",
    "# Filter the DataFrame to retain all rows from the sampled groups\n",
    "sampled_df = df[df['image_id'].isin(sampled_groups)]\n",
    "\n",
    "# Reset the index of the sampled DataFrame\n",
    "sampled_df = sampled_df.reset_index(drop=True)"
   ]
  },
  {
   "cell_type": "code",
   "execution_count": 8,
   "id": "fcca353f",
   "metadata": {},
   "outputs": [
    {
     "data": {
      "text/plain": [
       "array(['chart_title', 'axis_title', 'tick_label', 'plot-bb',\n",
       "       'x-axis-tick', 'y-axis-tick', 'other', 'tick_grouping'],\n",
       "      dtype=object)"
      ]
     },
     "execution_count": 8,
     "metadata": {},
     "output_type": "execute_result"
    }
   ],
   "source": [
    "sampled_df.label.unique()"
   ]
  },
  {
   "cell_type": "code",
   "execution_count": 9,
   "id": "07bdc37d",
   "metadata": {},
   "outputs": [
    {
     "data": {
      "text/html": [
       "<div>\n",
       "<style scoped>\n",
       "    .dataframe tbody tr th:only-of-type {\n",
       "        vertical-align: middle;\n",
       "    }\n",
       "\n",
       "    .dataframe tbody tr th {\n",
       "        vertical-align: top;\n",
       "    }\n",
       "\n",
       "    .dataframe thead th {\n",
       "        text-align: right;\n",
       "    }\n",
       "</style>\n",
       "<table border=\"1\" class=\"dataframe\">\n",
       "  <thead>\n",
       "    <tr style=\"text-align: right;\">\n",
       "      <th></th>\n",
       "      <th>image_id</th>\n",
       "      <th>source</th>\n",
       "      <th>chart_type</th>\n",
       "      <th>x0</th>\n",
       "      <th>y0</th>\n",
       "      <th>w</th>\n",
       "      <th>h</th>\n",
       "      <th>object_category</th>\n",
       "    </tr>\n",
       "  </thead>\n",
       "  <tbody>\n",
       "    <tr>\n",
       "      <th>0</th>\n",
       "      <td>images/c8ef1f3b431b.jpg</td>\n",
       "      <td>generated</td>\n",
       "      <td>line</td>\n",
       "      <td>169</td>\n",
       "      <td>38</td>\n",
       "      <td>318</td>\n",
       "      <td>28</td>\n",
       "      <td>chart_title</td>\n",
       "    </tr>\n",
       "    <tr>\n",
       "      <th>1</th>\n",
       "      <td>images/c8ef1f3b431b.jpg</td>\n",
       "      <td>generated</td>\n",
       "      <td>line</td>\n",
       "      <td>20</td>\n",
       "      <td>112</td>\n",
       "      <td>22</td>\n",
       "      <td>264</td>\n",
       "      <td>axis_title</td>\n",
       "    </tr>\n",
       "    <tr>\n",
       "      <th>2</th>\n",
       "      <td>images/c8ef1f3b431b.jpg</td>\n",
       "      <td>generated</td>\n",
       "      <td>line</td>\n",
       "      <td>120</td>\n",
       "      <td>441</td>\n",
       "      <td>415</td>\n",
       "      <td>22</td>\n",
       "      <td>axis_title</td>\n",
       "    </tr>\n",
       "    <tr>\n",
       "      <th>3</th>\n",
       "      <td>images/c8ef1f3b431b.jpg</td>\n",
       "      <td>generated</td>\n",
       "      <td>line</td>\n",
       "      <td>47</td>\n",
       "      <td>92</td>\n",
       "      <td>23</td>\n",
       "      <td>13</td>\n",
       "      <td>tick_label</td>\n",
       "    </tr>\n",
       "    <tr>\n",
       "      <th>4</th>\n",
       "      <td>images/c8ef1f3b431b.jpg</td>\n",
       "      <td>generated</td>\n",
       "      <td>line</td>\n",
       "      <td>47</td>\n",
       "      <td>155</td>\n",
       "      <td>23</td>\n",
       "      <td>13</td>\n",
       "      <td>tick_label</td>\n",
       "    </tr>\n",
       "  </tbody>\n",
       "</table>\n",
       "</div>"
      ],
      "text/plain": [
       "                  image_id     source chart_type   x0   y0    w    h   \n",
       "0  images/c8ef1f3b431b.jpg  generated       line  169   38  318   28  \\\n",
       "1  images/c8ef1f3b431b.jpg  generated       line   20  112   22  264   \n",
       "2  images/c8ef1f3b431b.jpg  generated       line  120  441  415   22   \n",
       "3  images/c8ef1f3b431b.jpg  generated       line   47   92   23   13   \n",
       "4  images/c8ef1f3b431b.jpg  generated       line   47  155   23   13   \n",
       "\n",
       "  object_category  \n",
       "0     chart_title  \n",
       "1      axis_title  \n",
       "2      axis_title  \n",
       "3      tick_label  \n",
       "4      tick_label  "
      ]
     },
     "execution_count": 9,
     "metadata": {},
     "output_type": "execute_result"
    }
   ],
   "source": [
    "new_df = sampled_df.copy()\n",
    "new_df.rename(columns={'chart':'chart_type', 'label':'object_category'}, inplace=True)\n",
    "new_df.head(5)"
   ]
  },
  {
   "cell_type": "markdown",
   "id": "174d7147",
   "metadata": {},
   "source": [
    "The total number of rows in this dataframe. We selected ~10K images, but each image has multiple annotations for\n",
    "every chart title, axes title, x-ticks, y-ticks, labels and so on. Each attribute is a row in this dataframe."
   ]
  },
  {
   "cell_type": "code",
   "execution_count": 10,
   "id": "aa7dc782",
   "metadata": {},
   "outputs": [
    {
     "data": {
      "text/plain": [
       "429688"
      ]
     },
     "execution_count": 10,
     "metadata": {},
     "output_type": "execute_result"
    }
   ],
   "source": [
    "len(new_df.index)"
   ]
  },
  {
   "cell_type": "markdown",
   "id": "7a14574e",
   "metadata": {},
   "source": [
    "## Convert to COCO format"
   ]
  },
  {
   "cell_type": "code",
   "execution_count": 11,
   "id": "aed000c8",
   "metadata": {},
   "outputs": [
    {
     "name": "stderr",
     "output_type": "stream",
     "text": [
      "100%|███████████████████████████████████████████████████████████████████████████████████████████████████████████████████████████████████████████████████████████████████████████████████████████████████████████████████████████████████████████████████████████████████████████████████████████████████████████████████████████████████████████████████████████████████████████████████████████████████████████████████████████████████████████████████████████| 10000/10000 [11:09<00:00, 14.95it/s]\n"
     ]
    }
   ],
   "source": [
    "# DataFrame containing the bounding box details and image filenames\n",
    "df = new_df.copy()\n",
    "\n",
    "coco_data = {\n",
    "    \"info\": {\n",
    "        \"description\": \"Benetech input images - random 10K sample\",\n",
    "        \"version\": \"1.0\",\n",
    "        \"year\": 2023,\n",
    "        \"contributor\": \"\",\n",
    "        \"date_created\": \"2023-06-11\"\n",
    "    },\n",
    "    \"licenses\": [],\n",
    "    \"images\": [],\n",
    "    \"categories\": [],\n",
    "    \"annotations\": []\n",
    "}\n",
    "\n",
    "# Mapping for chart types to COCO category IDs\n",
    "chart_type_mapping = {\n",
    "    \"dot\": 1,\n",
    "    \"horizontal_bar\": 2,\n",
    "    \"vertical_bar\": 3,\n",
    "    \"line\": 4,\n",
    "    \"scatter\": 5\n",
    "}\n",
    "\n",
    "# Create COCO categories\n",
    "categories = df[\"object_category\"].unique()\n",
    "for i, category in enumerate(categories, start=1):\n",
    "    category_entry = {\n",
    "        \"id\": i,\n",
    "        \"name\": category\n",
    "    }\n",
    "    coco_data[\"categories\"].append(category_entry)\n",
    "\n",
    "# Iterate over the unique image filenames in the DataFrame\n",
    "for filename in tqdm(df['image_id'].unique()):\n",
    "    # Construct the file path\n",
    "    file_path = os.path.join('/home/mhmdzm/projects/kaggle/benetech/data/train/', filename)  # Replace with the actual path to the images directory\n",
    "\n",
    "    # Open the image file\n",
    "    image = Image.open(file_path)\n",
    "\n",
    "    # Get the width and height of the image\n",
    "    width, height = image.size\n",
    "\n",
    "    # Create a dictionary for the current image\n",
    "    image_data = {\n",
    "        \"id\": len(coco_data[\"images\"]) + 1,  # Unique image ID\n",
    "        \"file_name\": filename,\n",
    "        \"width\": width,\n",
    "        \"height\": height\n",
    "    }\n",
    "\n",
    "    # Append the image dictionary to the COCO data\n",
    "    coco_data[\"images\"].append(image_data)\n",
    "\n",
    "    # Filter the DataFrame for the current image\n",
    "    image_df = df[df['image_id'] == filename]\n",
    "\n",
    "    # Iterate over the bounding boxes for objects in the current image\n",
    "    for _, row in image_df.iterrows():\n",
    "        image_filename = row[\"image_id\"]\n",
    "        chart_type = row[\"chart_type\"]\n",
    "        category_id = chart_type_mapping[chart_type]\n",
    "\n",
    "        # Create COCO image entry if not already present\n",
    "        image_entry = next((img for img in coco_data[\"images\"] if img[\"file_name\"] == image_filename), None)\n",
    "        if image_entry is None:\n",
    "            image_entry = {\n",
    "                \"id\": len(coco_data[\"images\"]) + 1,\n",
    "                \"width\": int(row[\"w\"]),\n",
    "                \"height\": int(row[\"h\"]),\n",
    "                \"file_name\": image_filename,\n",
    "                \"license\": 0,  # Add license ID if applicable\n",
    "                \"date_captured\": \"\"  # Add date if available\n",
    "            }\n",
    "            coco_data[\"images\"].append(image_entry)\n",
    "            \n",
    "        # Extract the bounding box details\n",
    "        x, y, w, h = row['x0'], row['y0'], row['w'], row['h']\n",
    "\n",
    "        # Create COCO annotation entry\n",
    "        annotation_entry = {\n",
    "            \"id\": len(coco_data[\"annotations\"]) + 1,\n",
    "            \"image_id\": image_entry[\"id\"],\n",
    "            \"category_id\": category_id,\n",
    "            \"segmentation\": [],\n",
    "            \"bbox\": [int(row[\"x0\"]), int(row[\"y0\"]), int(row[\"w\"]), int(row[\"h\"])],\n",
    "            \"area\": int(row[\"w\"]) * int(row[\"h\"]),\n",
    "            \"iscrowd\": 0  # Update accordingly if needed\n",
    "        }\n",
    "\n",
    "        # Append the annotation dictionary to the COCO data\n",
    "        coco_data[\"annotations\"].append(annotation_entry)\n"
   ]
  },
  {
   "cell_type": "markdown",
   "id": "3785ddc1",
   "metadata": {},
   "source": [
    "## Outputs\n",
    "Let us view some of the outputs of the final JSON in COCO format"
   ]
  },
  {
   "cell_type": "code",
   "execution_count": 12,
   "id": "4665d600",
   "metadata": {},
   "outputs": [
    {
     "data": {
      "text/plain": [
       "[{'id': 1, 'name': 'chart_title'},\n",
       " {'id': 2, 'name': 'axis_title'},\n",
       " {'id': 3, 'name': 'tick_label'},\n",
       " {'id': 4, 'name': 'plot-bb'},\n",
       " {'id': 5, 'name': 'x-axis-tick'},\n",
       " {'id': 6, 'name': 'y-axis-tick'},\n",
       " {'id': 7, 'name': 'other'},\n",
       " {'id': 8, 'name': 'tick_grouping'}]"
      ]
     },
     "execution_count": 12,
     "metadata": {},
     "output_type": "execute_result"
    }
   ],
   "source": [
    "coco_data['categories']"
   ]
  },
  {
   "cell_type": "code",
   "execution_count": 13,
   "id": "52f97973",
   "metadata": {},
   "outputs": [
    {
     "data": {
      "text/plain": [
       "[{'id': 1,\n",
       "  'image_id': 1,\n",
       "  'category_id': 4,\n",
       "  'segmentation': [],\n",
       "  'bbox': [169, 38, 318, 28],\n",
       "  'area': 8904,\n",
       "  'iscrowd': 0},\n",
       " {'id': 2,\n",
       "  'image_id': 1,\n",
       "  'category_id': 4,\n",
       "  'segmentation': [],\n",
       "  'bbox': [20, 112, 22, 264],\n",
       "  'area': 5808,\n",
       "  'iscrowd': 0},\n",
       " {'id': 3,\n",
       "  'image_id': 1,\n",
       "  'category_id': 4,\n",
       "  'segmentation': [],\n",
       "  'bbox': [120, 441, 415, 22],\n",
       "  'area': 9130,\n",
       "  'iscrowd': 0},\n",
       " {'id': 4,\n",
       "  'image_id': 1,\n",
       "  'category_id': 4,\n",
       "  'segmentation': [],\n",
       "  'bbox': [47, 92, 23, 13],\n",
       "  'area': 299,\n",
       "  'iscrowd': 0},\n",
       " {'id': 5,\n",
       "  'image_id': 1,\n",
       "  'category_id': 4,\n",
       "  'segmentation': [],\n",
       "  'bbox': [47, 155, 23, 13],\n",
       "  'area': 299,\n",
       "  'iscrowd': 0}]"
      ]
     },
     "execution_count": 13,
     "metadata": {},
     "output_type": "execute_result"
    }
   ],
   "source": [
    "coco_data['annotations'][:5]"
   ]
  },
  {
   "cell_type": "code",
   "execution_count": 14,
   "id": "3fc15ce7",
   "metadata": {},
   "outputs": [
    {
     "data": {
      "text/plain": [
       "{'description': 'Benetech input images - random 10K sample',\n",
       " 'version': '1.0',\n",
       " 'year': 2023,\n",
       " 'contributor': '',\n",
       " 'date_created': '2023-06-11'}"
      ]
     },
     "execution_count": 14,
     "metadata": {},
     "output_type": "execute_result"
    }
   ],
   "source": [
    "coco_data['info']"
   ]
  },
  {
   "cell_type": "code",
   "execution_count": 15,
   "id": "2fc638a9",
   "metadata": {},
   "outputs": [
    {
     "data": {
      "text/plain": [
       "[{'id': 1,\n",
       "  'file_name': 'images/c8ef1f3b431b.jpg',\n",
       "  'width': 640,\n",
       "  'height': 480},\n",
       " {'id': 2,\n",
       "  'file_name': 'images/9509499d26a7.jpg',\n",
       "  'width': 488,\n",
       "  'height': 294},\n",
       " {'id': 3,\n",
       "  'file_name': 'images/84a341a29701.jpg',\n",
       "  'width': 512,\n",
       "  'height': 347},\n",
       " {'id': 4,\n",
       "  'file_name': 'images/5b6b6c22b1a7.jpg',\n",
       "  'width': 467,\n",
       "  'height': 270},\n",
       " {'id': 5,\n",
       "  'file_name': 'images/d8792f2b6fef.jpg',\n",
       "  'width': 512,\n",
       "  'height': 299}]"
      ]
     },
     "execution_count": 15,
     "metadata": {},
     "output_type": "execute_result"
    }
   ],
   "source": [
    "coco_data['images'][:5]"
   ]
  },
  {
   "cell_type": "markdown",
   "id": "f1f3f4ad",
   "metadata": {},
   "source": [
    "The individual components making up the COCO file looks good. Now we can create the final JSON file to be used \n",
    "in the training step next."
   ]
  },
  {
   "cell_type": "code",
   "execution_count": 16,
   "id": "eadbcd3d",
   "metadata": {},
   "outputs": [],
   "source": [
    "# Save the COCO JSON to a file\n",
    "with open(\"coco_dataset.json\", \"w\") as f:\n",
    "    json.dump(coco_data, f, indent=4)"
   ]
  }
 ],
 "metadata": {
  "kernelspec": {
   "display_name": "Python 3 (ipykernel)",
   "language": "python",
   "name": "python3"
  },
  "language_info": {
   "codemirror_mode": {
    "name": "ipython",
    "version": 3
   },
   "file_extension": ".py",
   "mimetype": "text/x-python",
   "name": "python",
   "nbconvert_exporter": "python",
   "pygments_lexer": "ipython3",
   "version": "3.10.10"
  }
 },
 "nbformat": 4,
 "nbformat_minor": 5
}
