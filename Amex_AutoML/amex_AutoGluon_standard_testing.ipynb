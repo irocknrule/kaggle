{
 "cells": [
  {
   "cell_type": "code",
   "execution_count": 1,
   "id": "4c8ba043",
   "metadata": {},
   "outputs": [
    {
     "data": {
      "text/html": [
       "<style>.container { width:100% !important; }</style>"
      ],
      "text/plain": [
       "<IPython.core.display.HTML object>"
      ]
     },
     "metadata": {},
     "output_type": "display_data"
    }
   ],
   "source": [
    "from IPython.core.display import display, HTML\n",
    "display(HTML(\"<style>.container { width:100% !important; }</style>\"))"
   ]
  },
  {
   "cell_type": "markdown",
   "id": "b480ed8c",
   "metadata": {},
   "source": [
    "## Autogluon model\n",
    "This notebook is to carry out testing for the Amex Default Prediction competition using AutoGluon as a starting AutoML modeling technique.\n",
    "\n",
    "We are creating a notebook specifically for testing to avoid memory issues trying to do everything in one notebook."
   ]
  },
  {
   "cell_type": "code",
   "execution_count": 3,
   "id": "5d8754f2",
   "metadata": {},
   "outputs": [],
   "source": [
    "from pandas.api.types import is_string_dtype, is_numeric_dtype, is_categorical_dtype\n",
    "from fastai.tabular.all import *\n",
    "from sklearn.tree import DecisionTreeClassifier, export_graphviz\n",
    "from sklearn.ensemble import RandomForestRegressor\n",
    "from sklearn.tree import DecisionTreeRegressor\n",
    "from IPython.display import Image, display_svg, SVG\n",
    "#from dtreeviz.trees import *\n",
    "from autogluon.tabular import TabularDataset, TabularPredictor\n",
    "import gc\n",
    "\n",
    "pd.options.display.max_rows = 20\n",
    "pd.options.display.max_columns = 8"
   ]
  },
  {
   "cell_type": "code",
   "execution_count": 4,
   "id": "f4da89cd",
   "metadata": {},
   "outputs": [],
   "source": [
    "def display_all(df):\n",
    "    with pd.option_context(\"display.max_rows\", 1000): \n",
    "        with pd.option_context(\"display.max_columns\", 1000): \n",
    "            display(df)"
   ]
  },
  {
   "cell_type": "code",
   "execution_count": 5,
   "id": "81475143",
   "metadata": {},
   "outputs": [],
   "source": [
    "PATH=\"amex-data-integer-dtypes-parquet-format/\""
   ]
  },
  {
   "cell_type": "code",
   "execution_count": 6,
   "id": "3bb2c0bb",
   "metadata": {},
   "outputs": [],
   "source": [
    "# Read the testing dataset provided\n",
    "test_data_df = pd.read_parquet(f'{PATH}/test.parquet')"
   ]
  },
  {
   "cell_type": "code",
   "execution_count": 7,
   "id": "d25bec63",
   "metadata": {},
   "outputs": [
    {
     "data": {
      "text/plain": [
       "(11363762, 190)"
      ]
     },
     "execution_count": 7,
     "metadata": {},
     "output_type": "execute_result"
    }
   ],
   "source": [
    "test_data_df.shape"
   ]
  },
  {
   "cell_type": "code",
   "execution_count": 9,
   "id": "223d8b9f",
   "metadata": {},
   "outputs": [],
   "source": [
    "# fill the missing values\n",
    "test_data_df = test_data_df.bfill(axis='rows').ffill(axis='rows')\n",
    "test_data_df.reset_index(inplace=True, drop=True)"
   ]
  },
  {
   "cell_type": "code",
   "execution_count": 11,
   "id": "2789f0b9",
   "metadata": {},
   "outputs": [
    {
     "data": {
      "text/html": [
       "<div>\n",
       "<style scoped>\n",
       "    .dataframe tbody tr th:only-of-type {\n",
       "        vertical-align: middle;\n",
       "    }\n",
       "\n",
       "    .dataframe tbody tr th {\n",
       "        vertical-align: top;\n",
       "    }\n",
       "\n",
       "    .dataframe thead th {\n",
       "        text-align: right;\n",
       "    }\n",
       "</style>\n",
       "<table border=\"1\" class=\"dataframe\">\n",
       "  <thead>\n",
       "    <tr style=\"text-align: right;\">\n",
       "      <th></th>\n",
       "      <th>customer_ID</th>\n",
       "      <th>S_2</th>\n",
       "      <th>P_2</th>\n",
       "      <th>D_39</th>\n",
       "      <th>...</th>\n",
       "      <th>D_142</th>\n",
       "      <th>D_143</th>\n",
       "      <th>D_144</th>\n",
       "      <th>D_145</th>\n",
       "    </tr>\n",
       "  </thead>\n",
       "  <tbody>\n",
       "    <tr>\n",
       "      <th>10894405</th>\n",
       "      <td>f56fdbc843bc02ad4dbc20e61b493d6905126d692eec79bb1e18bb63e61a4b76</td>\n",
       "      <td>2018-11-27</td>\n",
       "      <td>0.874590</td>\n",
       "      <td>21</td>\n",
       "      <td>...</td>\n",
       "      <td>0.576354</td>\n",
       "      <td>0</td>\n",
       "      <td>0.002064</td>\n",
       "      <td>0</td>\n",
       "    </tr>\n",
       "    <tr>\n",
       "      <th>9066074</th>\n",
       "      <td>cc3a057fe61c68bcc9865ca319226e2ea1a372769b3115ea0cb10588cc93106f</td>\n",
       "      <td>2018-11-23</td>\n",
       "      <td>0.833374</td>\n",
       "      <td>0</td>\n",
       "      <td>...</td>\n",
       "      <td>0.826212</td>\n",
       "      <td>0</td>\n",
       "      <td>0.003584</td>\n",
       "      <td>0</td>\n",
       "    </tr>\n",
       "    <tr>\n",
       "      <th>2459606</th>\n",
       "      <td>376a87a3d47e34a1d40b0c026fe5a7a7c801c086b13a5479782d0b9cb48f4f84</td>\n",
       "      <td>2018-11-29</td>\n",
       "      <td>1.005200</td>\n",
       "      <td>0</td>\n",
       "      <td>...</td>\n",
       "      <td>0.595818</td>\n",
       "      <td>1</td>\n",
       "      <td>0.250139</td>\n",
       "      <td>2</td>\n",
       "    </tr>\n",
       "    <tr>\n",
       "      <th>31397</th>\n",
       "      <td>00b513cf1a88a057c5065dc286dcb01a56a831978ea09de8b61c4b41834d0738</td>\n",
       "      <td>2018-09-18</td>\n",
       "      <td>0.155348</td>\n",
       "      <td>0</td>\n",
       "      <td>...</td>\n",
       "      <td>0.062282</td>\n",
       "      <td>1</td>\n",
       "      <td>0.005912</td>\n",
       "      <td>2</td>\n",
       "    </tr>\n",
       "  </tbody>\n",
       "</table>\n",
       "<p>4 rows × 190 columns</p>\n",
       "</div>"
      ],
      "text/plain": [
       "                                                               customer_ID  \\\n",
       "10894405  f56fdbc843bc02ad4dbc20e61b493d6905126d692eec79bb1e18bb63e61a4b76   \n",
       "9066074   cc3a057fe61c68bcc9865ca319226e2ea1a372769b3115ea0cb10588cc93106f   \n",
       "2459606   376a87a3d47e34a1d40b0c026fe5a7a7c801c086b13a5479782d0b9cb48f4f84   \n",
       "31397     00b513cf1a88a057c5065dc286dcb01a56a831978ea09de8b61c4b41834d0738   \n",
       "\n",
       "                 S_2       P_2  D_39  ...     D_142  D_143     D_144  D_145  \n",
       "10894405  2018-11-27  0.874590    21  ...  0.576354      0  0.002064      0  \n",
       "9066074   2018-11-23  0.833374     0  ...  0.826212      0  0.003584      0  \n",
       "2459606   2018-11-29  1.005200     0  ...  0.595818      1  0.250139      2  \n",
       "31397     2018-09-18  0.155348     0  ...  0.062282      1  0.005912      2  \n",
       "\n",
       "[4 rows x 190 columns]"
      ]
     },
     "execution_count": 11,
     "metadata": {},
     "output_type": "execute_result"
    }
   ],
   "source": [
    "test_data_df.sample(4)"
   ]
  },
  {
   "cell_type": "code",
   "execution_count": 12,
   "id": "6cb07e9a",
   "metadata": {},
   "outputs": [],
   "source": [
    "# Select the latest customer statement\n",
    "test_data_df = test_data_df.groupby(['customer_ID'],as_index=False).tail(1)"
   ]
  },
  {
   "cell_type": "code",
   "execution_count": 13,
   "id": "0b2917a7",
   "metadata": {},
   "outputs": [],
   "source": [
    "test_data_df.reset_index(drop=True, inplace=True)"
   ]
  },
  {
   "cell_type": "code",
   "execution_count": 14,
   "id": "0698847c",
   "metadata": {},
   "outputs": [
    {
     "data": {
      "text/plain": [
       "(924621, 190)"
      ]
     },
     "execution_count": 14,
     "metadata": {},
     "output_type": "execute_result"
    }
   ],
   "source": [
    "test_data_df.shape"
   ]
  },
  {
   "cell_type": "code",
   "execution_count": 15,
   "id": "9c87b256",
   "metadata": {},
   "outputs": [
    {
     "data": {
      "text/plain": [
       "Index(['customer_ID', 'S_2', 'P_2', 'D_39', 'B_1', 'B_2', 'R_1', 'S_3', 'D_41',\n",
       "       'B_3',\n",
       "       ...\n",
       "       'D_136', 'D_137', 'D_138', 'D_139', 'D_140', 'D_141', 'D_142', 'D_143',\n",
       "       'D_144', 'D_145'],\n",
       "      dtype='object', length=190)"
      ]
     },
     "execution_count": 15,
     "metadata": {},
     "output_type": "execute_result"
    }
   ],
   "source": [
    "test_data_df.columns"
   ]
  },
  {
   "cell_type": "markdown",
   "id": "187e83be",
   "metadata": {},
   "source": [
    "## Data Prep"
   ]
  },
  {
   "cell_type": "code",
   "execution_count": 16,
   "id": "336ea69b",
   "metadata": {},
   "outputs": [
    {
     "name": "stdout",
     "output_type": "stream",
     "text": [
      "['0' '1' '2' '-1']\n",
      "['2' '3' '6' '1' '7' '5' '4' '-1']\n",
      "['0' '1' '-1']\n",
      "['0' '-1' '1']\n",
      "['0' '4' '5' '3' '7' '6' '-1' '2']\n",
      "['1' '0' '-1']\n",
      "['1' '2']\n",
      "['0' '3' '4' '2' '1' '5']\n",
      "['3' '0' '2' '-1']\n",
      "['-1' '1']\n",
      "['6' '4' '5' '2' '1' '3' '-1']\n"
     ]
    }
   ],
   "source": [
    "# Convert specific cols to categorical variables\n",
    "obj_col = ['B_30', 'B_38', 'D_114', 'D_116', 'D_117', 'D_120', 'D_126', 'D_63', 'D_64', 'D_66', 'D_68']\n",
    "for col in obj_col:\n",
    "    test_data_df[col]=test_data_df[col].astype('int').astype('str')\n",
    "    print(test_data_df[col].unique())"
   ]
  },
  {
   "cell_type": "markdown",
   "id": "f236f512",
   "metadata": {},
   "source": [
    "## Make predictions\n",
    "Load the best model from training which is saved on disk and then carry out the predictions by chunking the test datasets (since it is large)."
   ]
  },
  {
   "cell_type": "code",
   "execution_count": 41,
   "id": "7ab48001",
   "metadata": {},
   "outputs": [],
   "source": [
    "best_predictor = TabularPredictor.load(\"AutogluonModels/ag-20220924_172812/\")\n",
    "predictor = TabularPredictor.load(\"AutogluonModels/ag-20220924_172812/\")"
   ]
  },
  {
   "cell_type": "code",
   "execution_count": 42,
   "id": "d0dd4607",
   "metadata": {},
   "outputs": [
    {
     "data": {
      "text/plain": [
       "'WeightedEnsemble_L2_FULL'"
      ]
     },
     "execution_count": 42,
     "metadata": {},
     "output_type": "execute_result"
    }
   ],
   "source": [
    "predictor.get_model_best()"
   ]
  },
  {
   "cell_type": "code",
   "execution_count": null,
   "id": "9db45661",
   "metadata": {},
   "outputs": [],
   "source": [
    "display_all(predictor.leaderboard(extra_info=True, silent=True))"
   ]
  },
  {
   "cell_type": "code",
   "execution_count": null,
   "id": "03de57dd",
   "metadata": {},
   "outputs": [],
   "source": [
    "predictor.leaderboard(extra_info=True, silent=True)"
   ]
  },
  {
   "cell_type": "markdown",
   "id": "7da9996a",
   "metadata": {},
   "source": [
    "## Making a submissions file"
   ]
  },
  {
   "cell_type": "code",
   "execution_count": 43,
   "id": "d8c5ac01",
   "metadata": {},
   "outputs": [],
   "source": [
    "_ = gc.collect()"
   ]
  },
  {
   "cell_type": "code",
   "execution_count": 44,
   "id": "df5b7a55",
   "metadata": {},
   "outputs": [
    {
     "name": "stdout",
     "output_type": "stream",
     "text": [
      "Total number of customers: 924621\n"
     ]
    }
   ],
   "source": [
    "customers = test_data_df[['customer_ID']].drop_duplicates().sort_index().values.flatten()\n",
    "print(f'Total number of customers: {len(customers)}')"
   ]
  },
  {
   "cell_type": "code",
   "execution_count": 45,
   "id": "b80e00fa",
   "metadata": {},
   "outputs": [],
   "source": [
    "# Here we select 250 chunks arbitrarily. \n",
    "n = 250\n",
    "list_df = np.array_split(test_data_df, n)"
   ]
  },
  {
   "cell_type": "code",
   "execution_count": 46,
   "id": "cb4d5cba",
   "metadata": {},
   "outputs": [
    {
     "data": {
      "text/plain": [
       "(250, 3699)"
      ]
     },
     "execution_count": 46,
     "metadata": {},
     "output_type": "execute_result"
    }
   ],
   "source": [
    "len(list_df), len(list_df[1])"
   ]
  },
  {
   "cell_type": "code",
   "execution_count": 47,
   "id": "65d04e35",
   "metadata": {},
   "outputs": [],
   "source": [
    "# Iterate through the chunks and generate prediction probabilities for column with target = 1 (chance of default)\n",
    "y_pred = []\n",
    "y_true = []\n",
    "for i in range(0,n):\n",
    "    df_chunk = list_df[i]\n",
    "    y_pred.append(best_predictor.predict_proba(df_chunk).iloc[:, 1:3])\n",
    "test_preds = pd.concat(y_pred, axis=0, ignore_index=True)"
   ]
  },
  {
   "cell_type": "code",
   "execution_count": 48,
   "id": "cdbbc6e3",
   "metadata": {},
   "outputs": [
    {
     "data": {
      "text/html": [
       "<div>\n",
       "<style scoped>\n",
       "    .dataframe tbody tr th:only-of-type {\n",
       "        vertical-align: middle;\n",
       "    }\n",
       "\n",
       "    .dataframe tbody tr th {\n",
       "        vertical-align: top;\n",
       "    }\n",
       "\n",
       "    .dataframe thead th {\n",
       "        text-align: right;\n",
       "    }\n",
       "</style>\n",
       "<table border=\"1\" class=\"dataframe\">\n",
       "  <thead>\n",
       "    <tr style=\"text-align: right;\">\n",
       "      <th></th>\n",
       "      <th>1</th>\n",
       "    </tr>\n",
       "  </thead>\n",
       "  <tbody>\n",
       "    <tr>\n",
       "      <th>0</th>\n",
       "      <td>0.060657</td>\n",
       "    </tr>\n",
       "    <tr>\n",
       "      <th>1</th>\n",
       "      <td>0.030068</td>\n",
       "    </tr>\n",
       "    <tr>\n",
       "      <th>2</th>\n",
       "      <td>0.116480</td>\n",
       "    </tr>\n",
       "    <tr>\n",
       "      <th>3</th>\n",
       "      <td>0.349162</td>\n",
       "    </tr>\n",
       "    <tr>\n",
       "      <th>4</th>\n",
       "      <td>0.864032</td>\n",
       "    </tr>\n",
       "    <tr>\n",
       "      <th>...</th>\n",
       "      <td>...</td>\n",
       "    </tr>\n",
       "    <tr>\n",
       "      <th>924616</th>\n",
       "      <td>0.085329</td>\n",
       "    </tr>\n",
       "    <tr>\n",
       "      <th>924617</th>\n",
       "      <td>0.693495</td>\n",
       "    </tr>\n",
       "    <tr>\n",
       "      <th>924618</th>\n",
       "      <td>0.394760</td>\n",
       "    </tr>\n",
       "    <tr>\n",
       "      <th>924619</th>\n",
       "      <td>0.211188</td>\n",
       "    </tr>\n",
       "    <tr>\n",
       "      <th>924620</th>\n",
       "      <td>0.136817</td>\n",
       "    </tr>\n",
       "  </tbody>\n",
       "</table>\n",
       "<p>924621 rows × 1 columns</p>\n",
       "</div>"
      ],
      "text/plain": [
       "               1\n",
       "0       0.060657\n",
       "1       0.030068\n",
       "2       0.116480\n",
       "3       0.349162\n",
       "4       0.864032\n",
       "...          ...\n",
       "924616  0.085329\n",
       "924617  0.693495\n",
       "924618  0.394760\n",
       "924619  0.211188\n",
       "924620  0.136817\n",
       "\n",
       "[924621 rows x 1 columns]"
      ]
     },
     "execution_count": 48,
     "metadata": {},
     "output_type": "execute_result"
    }
   ],
   "source": [
    "test_preds"
   ]
  },
  {
   "cell_type": "code",
   "execution_count": 49,
   "id": "f88e5d8a",
   "metadata": {},
   "outputs": [
    {
     "data": {
      "text/html": [
       "<div>\n",
       "<style scoped>\n",
       "    .dataframe tbody tr th:only-of-type {\n",
       "        vertical-align: middle;\n",
       "    }\n",
       "\n",
       "    .dataframe tbody tr th {\n",
       "        vertical-align: top;\n",
       "    }\n",
       "\n",
       "    .dataframe thead th {\n",
       "        text-align: right;\n",
       "    }\n",
       "</style>\n",
       "<table border=\"1\" class=\"dataframe\">\n",
       "  <thead>\n",
       "    <tr style=\"text-align: right;\">\n",
       "      <th></th>\n",
       "      <th>prediction</th>\n",
       "    </tr>\n",
       "  </thead>\n",
       "  <tbody>\n",
       "    <tr>\n",
       "      <th>0</th>\n",
       "      <td>0.060657</td>\n",
       "    </tr>\n",
       "    <tr>\n",
       "      <th>1</th>\n",
       "      <td>0.030068</td>\n",
       "    </tr>\n",
       "    <tr>\n",
       "      <th>2</th>\n",
       "      <td>0.116480</td>\n",
       "    </tr>\n",
       "  </tbody>\n",
       "</table>\n",
       "</div>"
      ],
      "text/plain": [
       "   prediction\n",
       "0    0.060657\n",
       "1    0.030068\n",
       "2    0.116480"
      ]
     },
     "execution_count": 49,
     "metadata": {},
     "output_type": "execute_result"
    }
   ],
   "source": [
    "# Set column header for final submissions file\n",
    "test_preds.columns = ['prediction']\n",
    "test_preds.head(3)"
   ]
  },
  {
   "cell_type": "code",
   "execution_count": 50,
   "id": "5b735425",
   "metadata": {},
   "outputs": [
    {
     "name": "stdout",
     "output_type": "stream",
     "text": [
      "924621 924621\n"
     ]
    }
   ],
   "source": [
    "print(len(test_preds),len(test_data_df))"
   ]
  },
  {
   "cell_type": "code",
   "execution_count": 51,
   "id": "4706f527",
   "metadata": {},
   "outputs": [],
   "source": [
    "# Concat predictions with test set\n",
    "test_customers_df = test_data_df[['customer_ID']].copy()\n",
    "test_customers_df.reset_index(drop=True, inplace=True)\n",
    "test_preds.reset_index(drop=True, inplace=True)\n",
    "test_preds_df = pd.DataFrame()\n",
    "test_preds_df = pd.concat([test_customers_df,test_preds], axis=1)"
   ]
  },
  {
   "cell_type": "code",
   "execution_count": 52,
   "id": "2e63b401",
   "metadata": {},
   "outputs": [
    {
     "data": {
      "text/plain": [
       "4490"
      ]
     },
     "execution_count": 52,
     "metadata": {},
     "output_type": "execute_result"
    }
   ],
   "source": [
    "gc.collect()"
   ]
  },
  {
   "cell_type": "code",
   "execution_count": 53,
   "id": "a70e75aa",
   "metadata": {},
   "outputs": [
    {
     "data": {
      "text/plain": [
       "(924621, 2)"
      ]
     },
     "execution_count": 53,
     "metadata": {},
     "output_type": "execute_result"
    }
   ],
   "source": [
    "test_preds_df.shape"
   ]
  },
  {
   "cell_type": "code",
   "execution_count": 54,
   "id": "8b0f788d",
   "metadata": {},
   "outputs": [],
   "source": [
    "test_preds_df.to_csv(\"final_submission.csv\",index=False)"
   ]
  },
  {
   "cell_type": "code",
   "execution_count": 55,
   "id": "a7a919a8",
   "metadata": {},
   "outputs": [
    {
     "data": {
      "text/html": [
       "<div>\n",
       "<style scoped>\n",
       "    .dataframe tbody tr th:only-of-type {\n",
       "        vertical-align: middle;\n",
       "    }\n",
       "\n",
       "    .dataframe tbody tr th {\n",
       "        vertical-align: top;\n",
       "    }\n",
       "\n",
       "    .dataframe thead th {\n",
       "        text-align: right;\n",
       "    }\n",
       "</style>\n",
       "<table border=\"1\" class=\"dataframe\">\n",
       "  <thead>\n",
       "    <tr style=\"text-align: right;\">\n",
       "      <th></th>\n",
       "      <th>customer_ID</th>\n",
       "      <th>prediction</th>\n",
       "    </tr>\n",
       "  </thead>\n",
       "  <tbody>\n",
       "    <tr>\n",
       "      <th>0</th>\n",
       "      <td>00000469ba478561f23a92a868bd366de6f6527a684c9a2e78fb826dcac3b9b7</td>\n",
       "      <td>0.060657</td>\n",
       "    </tr>\n",
       "    <tr>\n",
       "      <th>1</th>\n",
       "      <td>00001bf2e77ff879fab36aa4fac689b9ba411dae63ae397d4263dafa1daedef5</td>\n",
       "      <td>0.030068</td>\n",
       "    </tr>\n",
       "    <tr>\n",
       "      <th>2</th>\n",
       "      <td>0000210045da4f81e5f122c6bde5c2a617d03eef67f82c5e400fc98e7bd43ce8</td>\n",
       "      <td>0.116480</td>\n",
       "    </tr>\n",
       "    <tr>\n",
       "      <th>3</th>\n",
       "      <td>00003b41e58ede33b8daf61ab56d9952f17c9ad1c3976cf6e56734528702d694</td>\n",
       "      <td>0.349162</td>\n",
       "    </tr>\n",
       "  </tbody>\n",
       "</table>\n",
       "</div>"
      ],
      "text/plain": [
       "                                                        customer_ID  \\\n",
       "0  00000469ba478561f23a92a868bd366de6f6527a684c9a2e78fb826dcac3b9b7   \n",
       "1  00001bf2e77ff879fab36aa4fac689b9ba411dae63ae397d4263dafa1daedef5   \n",
       "2  0000210045da4f81e5f122c6bde5c2a617d03eef67f82c5e400fc98e7bd43ce8   \n",
       "3  00003b41e58ede33b8daf61ab56d9952f17c9ad1c3976cf6e56734528702d694   \n",
       "\n",
       "   prediction  \n",
       "0    0.060657  \n",
       "1    0.030068  \n",
       "2    0.116480  \n",
       "3    0.349162  "
      ]
     },
     "execution_count": 55,
     "metadata": {},
     "output_type": "execute_result"
    }
   ],
   "source": [
    "test_preds_df.head(4)"
   ]
  },
  {
   "cell_type": "code",
   "execution_count": 56,
   "id": "f3d00a37",
   "metadata": {},
   "outputs": [
    {
     "name": "stdout",
     "output_type": "stream",
     "text": [
      "Warning: Your Kaggle API key is readable by other users on this system! To fix this, you can run 'chmod 600 /home/ec2-user/.kaggle/kaggle.json'\n",
      "100%|██████████████████████████████████████| 74.9M/74.9M [00:05<00:00, 13.2MB/s]\n",
      "Successfully submitted to American Express - Default Prediction"
     ]
    }
   ],
   "source": [
    "!kaggle competitions submit -c amex-default-prediction -f submission_ag_v10.csv -m \"Submission v10\""
   ]
  }
 ],
 "metadata": {
  "kernelspec": {
   "display_name": "conda_pytorch_p38",
   "language": "python",
   "name": "conda_pytorch_p38"
  },
  "language_info": {
   "codemirror_mode": {
    "name": "ipython",
    "version": 3
   },
   "file_extension": ".py",
   "mimetype": "text/x-python",
   "name": "python",
   "nbconvert_exporter": "python",
   "pygments_lexer": "ipython3",
   "version": "3.8.12"
  }
 },
 "nbformat": 4,
 "nbformat_minor": 5
}
